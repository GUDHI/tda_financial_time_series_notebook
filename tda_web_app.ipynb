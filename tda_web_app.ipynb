{
 "cells": [
  {
   "cell_type": "markdown",
   "id": "f087b216-4c7c-41aa-a9a7-cc6b8893a02a",
   "metadata": {
    "tags": []
   },
   "source": [
    "# TDA of financial time series\n",
    "\n",
    "This web app is a reimplementation of the paper\n",
    "[TDA of financial time series: Landscapes of crashes](https://arxiv.org/abs/1703.04385)\n",
    "using [gudhi](https://gudhi.inria.fr).\n",
    "\n",
    "Select a start and an end date (default one is to visualize the dotcom crash).\n",
    "You can visualize **dotcom** crash : start=1999/03/10, end = 2000/03/10 | \n",
    "**Lehman brothers** crash : start=2007/09/15, end = 2008/09/15.\n",
    "\n",
    "In the publication, they use a 250 days (a little bit more than 1 year). \n",
    "You can set smaller date range if you find the computation not fast enough."
   ]
  },
  {
   "cell_type": "code",
   "execution_count": 1,
   "id": "ce92a3b8-5fb7-4988-aab7-2cbdc2edba4e",
   "metadata": {},
   "outputs": [
    {
     "data": {
      "application/vnd.jupyter.widget-view+json": {
       "model_id": "3ad558297fda4505ad3e41490da65053",
       "version_major": 2,
       "version_minor": 0
      },
      "text/plain": [
       "HBox(children=(DatePicker(value=datetime.date(2021, 3, 7), description='start'), DatePicker(value=datetime.dat…"
      ]
     },
     "metadata": {},
     "output_type": "display_data"
    },
    {
     "data": {
      "application/vnd.jupyter.widget-view+json": {
       "model_id": "296007ac5e5041e28c06da3c886f101d",
       "version_major": 2,
       "version_minor": 0
      },
      "text/plain": [
       "FigureWidget({\n",
       "    'data': [{'mode': 'lines',\n",
       "              'name': 'L1',\n",
       "              'type': 'scatter',\n",
       "   …"
      ]
     },
     "metadata": {},
     "output_type": "display_data"
    }
   ],
   "source": [
    "# Some basic data science imports\n",
    "import pandas as pd\n",
    "import numpy as np\n",
    "from sklearn.preprocessing import MinMaxScaler\n",
    "from sklearn.pipeline import Pipeline\n",
    "import datetime\n",
    "\n",
    "# Some gudhi imports for TDA\n",
    "from tda_pipeline import DataSelector, RipsPersistence, LPNorm\n",
    "from gudhi.representations import Landscape\n",
    "\n",
    "# Some graphical imports for the web app\n",
    "import ipywidgets as widgets\n",
    "import plotly.graph_objects as go\n",
    "\n",
    "# Some imports for ipywidgets\n",
    "from ipywidgets import DatePicker, BoundedIntText, ToggleButton, Text, HBox, VBox\n",
    "from IPython.display import display\n",
    "\n",
    "# cf. data_generation.py\n",
    "df = pd.read_csv('latest.csv', index_col=0)\n",
    "\n",
    "# min, max and default start values taken from the dataset - Python 3.7+\n",
    "min_value = datetime.date.fromisoformat(df.index[0])\n",
    "max_value = datetime.date.fromisoformat(df.index[-1])\n",
    "\n",
    "last_year = max_value - datetime.timedelta(days=250)\n",
    "\n",
    "# Widgets\n",
    "start = DatePicker(description='start', value = last_year)\n",
    "end   = DatePicker(description='end', value = max_value)\n",
    "window = BoundedIntText(value=50, min=10, max=100, step=1, description='Windows size')\n",
    "\n",
    "button = ToggleButton(description='Compute', icon='cogs')\n",
    "\n",
    "def nearest_str_date(items, pivot):\n",
    "    return min(items, key=lambda str_date: abs(datetime.date.fromisoformat(str_date) - pivot))\n",
    "\n",
    "def compute_Lp_norms():\n",
    "    w=int(window.value)\n",
    "    start_idx = df.index.get_loc(str(nearest_str_date(df.index, start.value - datetime.timedelta(days=w))))\n",
    "    end_idx = df.index.get_loc(str(nearest_str_date(df.index, end.value)))\n",
    "    # Some error management\n",
    "    if start_idx == end_idx:\n",
    "        raise IndexError('Start date must be different from end date.')\n",
    "    if end_idx < w:\n",
    "        end_idx = w\n",
    "    if end_idx < start_idx:\n",
    "        start_idx, end_idx = end_idx, start_idx\n",
    "\n",
    "    pipe = Pipeline(\n",
    "        [\n",
    "            (\"data_sel\", DataSelector(start=start_idx, end=end_idx, w=w)),\n",
    "            (\"rips_pers\", RipsPersistence(max_rips_dimension=2, max_persistence_dimension=2, only_this_dim=1, n_jobs=-1)),\n",
    "            (\"landscape\", Landscape(resolution=1000)),\n",
    "            (\"lpnorm\", LPNorm(n_jobs=-1)),\n",
    "            (\"mms\", MinMaxScaler()),\n",
    "        ]\n",
    "    )\n",
    "\n",
    "    L1L2mms = pipe.fit_transform(df)\n",
    "    \n",
    "    l1l2df = pd.DataFrame({'date': df[start_idx+w:end_idx].index, 'L1': L1L2mms.transpose()[0], 'L2': L1L2mms.transpose()[1]})\n",
    "    # Calculate the variance for the L norms\n",
    "    j = 0\n",
    "\n",
    "    for i in l1l2df.index:\n",
    "        if j < w:\n",
    "            k = 0\n",
    "        else:\n",
    "            k = j - w\n",
    "        l1l2df.loc[i, 'L1_variance'] = np.var(l1l2df.iloc[k:j].L1)\n",
    "        l1l2df.loc[i, 'L2_variance'] = np.var(l1l2df.iloc[k:j].L2)\n",
    "        j += 1\n",
    "        \n",
    "    return l1l2df\n",
    "\n",
    "def compute(args):\n",
    "    l1l2df = compute_Lp_norms()\n",
    "    fig.data[0]['x'] = l1l2df['date']\n",
    "    fig.data[0]['y'] = l1l2df['L1']\n",
    "    fig.data[1]['x'] = l1l2df['date']\n",
    "    fig.data[1]['y'] = l1l2df['L2']\n",
    "    fig.data[2]['x'] = l1l2df['date']\n",
    "    fig.data[2]['y'] = l1l2df['L1_variance']\n",
    "    fig.data[3]['x'] = l1l2df['date']\n",
    "    fig.data[3]['y'] = l1l2df['L2_variance']\n",
    "    \n",
    "button.observe(compute, 'value')\n",
    "\n",
    "# Layout\n",
    "left_box = HBox([start, end, window, button])\n",
    "\n",
    "fig = go.FigureWidget()\n",
    "\n",
    "l1l2df = compute_Lp_norms()\n",
    "fig.add_scatter(x=l1l2df['date'], y=l1l2df['L1'], mode='lines', name='L1')\n",
    "fig.add_scatter(x=l1l2df['date'], y=l1l2df['L2'], mode='lines', name='L2')\n",
    "fig.add_scatter(x=l1l2df['date'], y=l1l2df['L1_variance'], mode='lines', name='L1_variance')\n",
    "fig.add_scatter(x=l1l2df['date'], y=l1l2df['L2_variance'], mode='lines', name='L2_variance')\n",
    "fig.update_xaxes(dtick=\"M1\", tickformat=\"%b\\n%Y\")\n",
    "fig.layout.title.text = 'Lp norms'\n",
    "\n",
    "display(left_box)\n",
    "fig"
   ]
  }
 ],
 "metadata": {
  "kernelspec": {
   "display_name": "Python 3 (ipykernel)",
   "language": "python",
   "name": "python3"
  },
  "language_info": {
   "codemirror_mode": {
    "name": "ipython",
    "version": 3
   },
   "file_extension": ".py",
   "mimetype": "text/x-python",
   "name": "python",
   "nbconvert_exporter": "python",
   "pygments_lexer": "ipython3",
   "version": "3.10.2"
  }
 },
 "nbformat": 4,
 "nbformat_minor": 5
}
